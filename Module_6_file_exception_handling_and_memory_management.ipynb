{
  "nbformat": 4,
  "nbformat_minor": 0,
  "metadata": {
    "colab": {
      "provenance": []
    },
    "kernelspec": {
      "name": "python3",
      "display_name": "Python 3"
    },
    "language_info": {
      "name": "python"
    }
  },
  "cells": [
    {
      "cell_type": "markdown",
      "source": [
        "#Theory Questions"
      ],
      "metadata": {
        "id": "23KJyN6_1DCo"
      }
    },
    {
      "cell_type": "markdown",
      "source": [
        "1. What is the difference between interpreted and compiled languages?\n",
        "\n",
        "  Ans: There are 2 stages in compiler the code is converted to intermediate code called as machine code or byte code and the main point is compiler compiles the code in one shot so the error if there in the code then it comes when entire code is executed.\n",
        "  While interpreter runs code line by line and there is no intermediate state and when the error comes the code stops executionat that time only.\n",
        "  As compiler compiles the code in one shot it is faster than interpreter."
      ],
      "metadata": {
        "id": "-ogM1Q_B80G-"
      }
    },
    {
      "cell_type": "markdown",
      "source": [
        "2. What is exception handling in Python?\n",
        "   \n",
        "   Ans: Exception in python is an event that occurs during the execution of the code that disrupts the flow of the code.So we need to develop a mechanism that prevents occuring of that so it is called as exception handling.\n",
        "\n",
        "\n"
      ],
      "metadata": {
        "id": "Wh0JcgiK9t0N"
      }
    },
    {
      "cell_type": "markdown",
      "source": [
        "3. What is the purpose of the finally block in exception handling?\n",
        "\n",
        "   Ans: There are total 3 blocks in the exception handling try, except and finally we generally write the code below the except the code that normally executes whether exception has occured or not that can be written in the finally block.\n",
        "\n",
        "   example:\n",
        "            try:\n",
        "                 division = 23/0\n",
        "            except Zerodivisionerror as e:\n",
        "                print(\"Divided by default value 1: \",23/1,\"As this exception has occured: \",e)\n",
        "            finally:\n",
        "                print(\"Division successful\")"
      ],
      "metadata": {
        "id": "RLLQJQEx-g3r"
      }
    },
    {
      "cell_type": "markdown",
      "source": [
        "4. What is logging in Python?\n",
        "   \n",
        "   Ans: Logging is a means of tracking events that happen when some software runs. Logging is important for software developing, debugging, and running. If you don’t have any logging record and your program crashes, there are very few chances that you detect the cause of the problem. And if you detect the cause, it will consume a lot of time. With logging, you can leave a trail of breadcrumbs so that if something goes wrong, we can determine the cause of the problem.\n",
        "\n",
        "  There are a number of situations like if you are expecting an integer, you have been given a float and you can a cloud API, the service is down for maintenance, and much more. Such problems are out of control and are hard to determine."
      ],
      "metadata": {
        "id": "R9hc0WrD_qWx"
      }
    },
    {
      "cell_type": "markdown",
      "source": [
        "5. What is the significance of the __del__ method in Python?\n",
        "\n",
        "   Ans: The __del__ method is a special method in Python that is called when an object is about to be destroyed. It allows you to define specific cleanup actions that should be taken when an object is garbage collected. This method can be particularly useful for releasing external resources such as file handles, network connections, or database connections that the object may hold.\n",
        "\n",
        "   Syntax: The __del__ method is defined using the following syntax.\n",
        "           class ClassName:\n",
        "               def __del__(self):\n",
        "                  # cleanup code here\n",
        "                  pass"
      ],
      "metadata": {
        "id": "YJzh2dm2_6kV"
      }
    },
    {
      "cell_type": "markdown",
      "source": [
        "6. What is the difference between import and from ... import in Python?\n",
        "\n",
        "\n",
        "    Ans: The most important difference is that import x essentially   gives you access to the x namespace where you can use its contents with syntax like x.foo(), which would call x’s function foo.\n",
        "\n",
        "    from x import *, on the other hand, will import all of x’s info into your current namespace. This way, when you type foo(), you’re calling x’s function without having to use the namespace dot syntax to reach it.\n",
        "\n",
        "    While this seems more convenient for some cases, it is considered bad practice. By importing everything into your current ns, it because difficult to understand where a function (or whatever) is coming from, and if you have any problems with the * imported info, it becomes significantly more problematic to debug."
      ],
      "metadata": {
        "id": "1QhSXFYXATmL"
      }
    },
    {
      "cell_type": "markdown",
      "source": [
        "7. How can you handle multiple exceptions in Python?\n",
        "\n",
        "   Ans: We can handle multiple exception either by passing it with parenthesins in the except block or by writing multiple except block but we have to maintain hirerachy because if we write exception class first the no specific exception will run so 1st we have to write specific exception an then we need to write Exception class.\n",
        "\n",
        "   Syntax:\n",
        "            try:\n",
        "                #code\n",
        "            except (Importerror, Zerodivisionerror, etc...) as e:\n",
        "                #code\n",
        "\n",
        "                or\n",
        "            try:\n",
        "                #code\n",
        "            except(Importerror) as e:\n",
        "                #code\n",
        "            except(Modulenotfounderror) as e:\n",
        "                #code\n",
        "                .... etc\n",
        "            except Exception as e:  #write it as last if needed\n",
        "                #code"
      ],
      "metadata": {
        "id": "1STJHvw7AkCL"
      }
    },
    {
      "cell_type": "markdown",
      "source": [
        "8. What is the purpose of the with statement when handling files in Python?\n",
        "\n",
        "   Ans: We need to close the file once we have opened it for any mode if we want to write in the file and we have utilize tge write mode then we need to close the file to get desired changes in it otherwise we will not get the output.\n",
        "\n",
        "   To avoid such closing of the file we use with statement as the with statement automatically closes the file.\n",
        "\n",
        "   Example:\n",
        "            f = open(\"file.txt\",\"w\")\n",
        "            f.write(\"ENtered name is this\")\n",
        "        \n",
        "            #again\n",
        "            f= open(\"file.txt\",\"r\")\n",
        "            f.read()  #error occur as file is not closed\n",
        "   Using \"with\" statement\n",
        "\n",
        "            with open(file.txt) as f:\n",
        "               f.write(\"ENtered name is this\")\n",
        "            \n",
        "            #to read\n",
        "            with open(file.txt) as f:\n",
        "              f.read()   #no error\n"
      ],
      "metadata": {
        "id": "MmWK7n18BnDZ"
      }
    },
    {
      "cell_type": "markdown",
      "source": [
        "9. What is the difference between multithreading and multiprocessing?\n",
        "\n",
        "   Ans: Multiprocessing is a system that has more than one or two processors. In Multiprocessing, CPUs are added to increase the computing speed of the system. Because of Multiprocessing, There are many processes are executed simultaneously\n",
        "\n",
        "   while\n",
        "   \n",
        "   Multithreading is a system in which multiple threads are created of a process for increasing the computing speed of the system. In multithreading, many threads of a process are executed simultaneously and process creation in multithreading is done according to economical."
      ],
      "metadata": {
        "id": "L3QKvwMzDDVP"
      }
    },
    {
      "cell_type": "markdown",
      "source": [
        "10. What are the advantages of using logging in a program?\n",
        "\n",
        "    Ans:\n",
        "\n",
        "    Identify and fix issues: Logging helps developers identify and debug issues in their code.\n",
        "\n",
        "    Monitor performance: Logging helps developers monitor the performance of their application.\n",
        "\n",
        "    Analyze user behavior: Logging can help developers analyze how users interact with their application.\n",
        "\n",
        "    Improve security: Logging can help improve the security of an application.\n",
        "\n",
        "    Reduce response times: Logging can help reduce the time it takes to fix issues.\n",
        "\n",
        "    Improve customer experience: Logging can help improve the customer experience by helping developers identify and fix issues.\n",
        "    \n",
        "    Increase transparency: Logging can help increase transparency throughout the system.\n",
        "    \n",
        "    Identify patterns and trends: Aggregating log data can help developers identify patterns and trends in their system's activity."
      ],
      "metadata": {
        "id": "Dw24O7SfDHxe"
      }
    },
    {
      "cell_type": "markdown",
      "source": [
        "11. What is memory management in Python?\n",
        "\n",
        "    Ans:"
      ],
      "metadata": {
        "id": "39cFAibrDQ4U"
      }
    },
    {
      "cell_type": "markdown",
      "source": [
        "12. What are the basic steps involved in exception handling in Python?\n",
        "\n",
        "    Ans: There are 3 basic steps for exception handling:\n",
        "         1st Step: It is to write try block which will have the code in which we can have chances of occuring the error.\n",
        "\n",
        "         2nd Step: To write except block that cotains the exception class and also different types of exception.The exception handling acctually occurs here\n",
        "\n",
        "         3rd step: Not necessarly need but prefered to write finally block to run those things that run whether exception occur or not."
      ],
      "metadata": {
        "id": "deEaqkE1DW1N"
      }
    },
    {
      "cell_type": "markdown",
      "source": [
        "13. Why is memory management important in Python?\n",
        "\n",
        "    Ans:\n",
        "\n",
        "    Memory Allocation in Python\n",
        "    \n",
        "    There are two parts of memory:\n",
        "\n",
        "    1. stack memory\n",
        "    2.  heap memory\n",
        "\n",
        "    The methods/method calls and the references are stored in stack memory and all the values objects are stored in a private heap.\n",
        "\n",
        "    Stack Memory:\n",
        "    The allocation happens on contiguous blocks of memory. We call it stack memory allocation because the allocation happens in the function call stack. The size of memory to be allocated is known to the compiler and whenever a function is called, its variables get memory allocated on the stack.\n",
        "\n",
        "    It is the memory that is only needed inside a particular function or method call. When a function is called, it is added onto the program’s call stack. Any local memory assignments such as variable initializations inside the particular functions are stored temporarily on the function call stack, where it is deleted once the function returns, and the call stack moves on to the next task. This allocation onto a contiguous block of memory is handled by the compiler using predefined routines, and developers do not need to worry about it.\n",
        "\n",
        "    Heap Memory:\n",
        "    \n",
        "    The memory is allocated during the execution of instructions written by programmers. Note that the name heap has nothing to do with the heap data structure. It is called heap because it is a pile of memory space available to programmers to allocated and de-allocate. The variables are needed outside of method or function calls or are shared within multiple functions globally are stored in Heap memory."
      ],
      "metadata": {
        "id": "Cn46PEBfEfON"
      }
    },
    {
      "cell_type": "markdown",
      "source": [
        "14. What is the role of try and except in exception handling?\n",
        "\n",
        "    Ans: In try block will have the code in which we can have chances of occuring the error.\n",
        "    while in except block cotains the exception class and also different types of exception.The exception handling acctually occurs here\n",
        "\n",
        "    Example:\n",
        "              try:\n",
        "                  div= s/d\n",
        "              except ZeroDivisionError as e:\n",
        "                  print(f\"The value is inncorrect {e}\")"
      ],
      "metadata": {
        "id": "n35H99Z2EnYk"
      }
    },
    {
      "cell_type": "markdown",
      "source": [
        "15. How does Python's garbage collection system work?\n",
        "\n",
        "    Ans:\n",
        "\n",
        "      Garbage collection is a memory management technique used in programming languages to automatically reclaim memory that is no longer accessible or in use by the application. It helps prevent memory leaks, optimize memory usage, and ensure efficient memory allocation for the program."
      ],
      "metadata": {
        "id": "lYp6pCBMFTWv"
      }
    },
    {
      "cell_type": "markdown",
      "source": [
        "16. What is the purpose of the else block in exception handling?\n",
        "\n",
        "    Ans: Else block in the exception handling is utilized for running that statements that run only and only if the error is not occured i.e, when the try block is successfully executed and the exception has not occured.\n",
        "\n",
        "    For example:\n",
        "                  try:\n",
        "                        f=open(\"file.txt\",\"wb\")\n",
        "                  except Filenotfounderror as e:\n",
        "                        print(\"File has not found please create the file\")\n",
        "                  else:\n",
        "                        f.write(\"/24x/45x...\")  #this code will be executed i.e, will run only and only if the file open successfully without error"
      ],
      "metadata": {
        "id": "RoAdmA_JFZzx"
      }
    },
    {
      "cell_type": "markdown",
      "source": [
        "17. What are the common logging levels in Python?\n",
        "\n",
        "    Ans:\n",
        "\n",
        "    he specific log levels available to you may defer depending on the programming language, logging framework, or service in use. However, in most cases, you can expect to encounter levels such as FATAL , ERROR , WARN , INFO , DEBUG , and TRACE"
      ],
      "metadata": {
        "id": "i85DBmvFoT5v"
      }
    },
    {
      "cell_type": "markdown",
      "source": [
        "18. What is the difference between os.fork() and multiprocessing in Python?\n",
        "\n",
        "    Ans:\n",
        "\n",
        "    Forking and multiprocessing are two different start methods for new processes. Fork is the default on Linux (it isn't available on Windows), while Windows and MacOS use multiprocessed by default. When a process is forked the child process inherits all the same variables in the same state as they were in the parent."
      ],
      "metadata": {
        "id": "C7bTR8xtrPlC"
      }
    },
    {
      "cell_type": "markdown",
      "source": [
        "19. What is the importance of closing a file in Python?\n",
        "\n",
        "    Ans: There is too much importance of closing the file because for example if we have opend the file with \"w\" mode then if we have write some thing in the file then that change will be reflected in that file only and only if the file is closed if file is not close the change in the file will not be incoporated.\n",
        "\n",
        "    for this reason we utilise \"with\" statement beacuse it by default close the file no need to close it externally."
      ],
      "metadata": {
        "id": "F83c-wRYrTFy"
      }
    },
    {
      "cell_type": "markdown",
      "source": [
        "20. What is the difference between file.read() and file.readline() in Python?\n",
        "\n",
        "    Ans: When we use read statement it read the items that are after the cursor the items that are before the cursor will not be read.\n",
        "\n",
        "    for example:\n",
        "                  with open(\"file.txt\",\"r\") as f:\n",
        "                    print(f.read())  #O/P - ''\n",
        "                  #as the cursor will be at end\n",
        "                  #to know where is cursor use \"f.tell()\"\n",
        "                  #to make cursor to start point use \"f.seek(0)\"\n",
        "\n",
        "                  with open(\"file.txt\",\"r\") as f:\n",
        "                    f.seek(0)\n",
        "                    print(f.read())    #all the things will be read successfully\n",
        "    While readline() will read the single line of the file only\n",
        "\n",
        "    for example:\n",
        "                  with open(\"file.txt\",\"r\") as f:\n",
        "                  print(f.readline())\n",
        "\n"
      ],
      "metadata": {
        "id": "PwDJe6M6sQw5"
      }
    },
    {
      "cell_type": "markdown",
      "source": [
        "21. What is the logging module in Python used for?\n",
        "\n",
        "    Ans:\n",
        "    Python logging is a module that allows you to track events that occur while your program is running. You can use logging to record information about errors, warnings, and other events that occur during program execution. And logging is a useful tool for debugging, troubleshooting, and monitoring your program.\n"
      ],
      "metadata": {
        "id": "T9HA351lv5zV"
      }
    },
    {
      "cell_type": "markdown",
      "source": [
        "22. What is the os module in Python used for in file handling?\n",
        "\n",
        "    Ans:\"os\" - module in the python is utilized to make folder or directory in the python.\n",
        "\n",
        "    It has various functions:\n",
        "                os.getcwd()  #to get current file directory\n",
        "                os.mkdir(\"path\")  #to make directory at the given location\n",
        "                os.rmdir()  #to remove the directory without deleting the elements\n",
        "                os.rmtree(\"diretory\") #to remove it fully. etc"
      ],
      "metadata": {
        "id": "9Pvx6jucv8b8"
      }
    },
    {
      "cell_type": "markdown",
      "source": [
        "23. What are the challenges associated with memory management in Python?\n",
        "\n",
        "    Ans:\n",
        "\n",
        "    Memory management in Python can be challenging because of:\n",
        "    1. Memory leaks:\n",
        "        Unused memory can accumulate over time, leading to memory exhaustion and performance degradation.\n",
        "    2. Slower program runtimes:\n",
        "        Python sometimes holds freed memory in the interpreter instead of freeing it up for the operating system.\n",
        "    3. Inefficient memory usage\n",
        "        Python's small object manager rarely returns memory back to the operating system."
      ],
      "metadata": {
        "id": "RxVC0iLav9yO"
      }
    },
    {
      "cell_type": "markdown",
      "source": [
        "24. How do you raise an exception manually in Python?\n",
        "\n",
        "    Ans: To make a custom exception we have certain steps in python:\n",
        "\n",
        "      Step1: #make a class that inherities the exception class and pass variable as msg in init\n",
        "            \n",
        "            class variable(Exception):\n",
        "                  def __init__(self,msg):\n",
        "                      self.msg=msg\n",
        "            \n",
        "      Step2: # make a function outside the class that call the made class and \"raise\" keyword to print the needed exception\n",
        "\n",
        "            def salary_var(salary);\n",
        "                if salary<=0:\n",
        "                    raise variable(\"Enter valid salary\")\n",
        "                elif salary >= 3* 10**15\n",
        "                    raise variable(\"Too much salary\")\n",
        "                else:\n",
        "                    print(\"valid salary\")\n",
        "      Step3: #utilize it by passing variable to function made and in except statement write the class name you made as an exception.\n",
        "\n",
        "            try:\n",
        "                  salary=int(input(\"Enter the your salary\"))\n",
        "                  salary_var(salary)\n",
        "            except variable as e:\n",
        "                  print(\"The exception you got is: \",e)\n",
        "      \n",
        "\n"
      ],
      "metadata": {
        "id": "fboAlrUaxI6M"
      }
    },
    {
      "cell_type": "markdown",
      "source": [
        "25. Why is it important to use multithreading in certain applications?\n",
        "\n",
        "    Ans:\n",
        "\n",
        "    Multithreading is important in certain applications because it allows for the simultaneous execution of multiple tasks within a single program, significantly improving responsiveness and performance by utilizing multiple CPU cores efficiently, especially when dealing with operations that involve waiting for input/output (I/O) like network requests or disk access, preventing the application from freezing while waiting for a single task to complete; this is particularly beneficial in applications like web servers, media players, and graphical user interfaces where users expect immediate feedback even while other operations are ongoing."
      ],
      "metadata": {
        "id": "hDbTYSdnxNJj"
      }
    },
    {
      "cell_type": "markdown",
      "source": [
        "#Practical Questions"
      ],
      "metadata": {
        "id": "ROm0_o5P0LIg"
      }
    },
    {
      "cell_type": "markdown",
      "source": [
        "1. How can you open a file for writing in Python and write a string to it?\n"
      ],
      "metadata": {
        "id": "9uJxHIcq0Fd4"
      }
    },
    {
      "cell_type": "code",
      "source": [
        "with open (\"file.txt\",\"w\") as f:\n",
        "  f.write(\"This is my first file\\n\")\n",
        "  f.write(\"This is my first file second line\")\n",
        "with open (\"file.txt\",\"r\") as f:\n",
        "  print(f.read())"
      ],
      "metadata": {
        "colab": {
          "base_uri": "https://localhost:8080/"
        },
        "id": "2uVm7LKS0KDQ",
        "outputId": "fced0551-41d5-479a-c728-12bc92df0c2a"
      },
      "execution_count": 9,
      "outputs": [
        {
          "output_type": "stream",
          "name": "stdout",
          "text": [
            "This is my first file\n",
            "This is my first file second line\n"
          ]
        }
      ]
    },
    {
      "cell_type": "markdown",
      "source": [
        "2. Write a Python program to read the contents of a file and print each line."
      ],
      "metadata": {
        "id": "Cbh_Gxdq0OzP"
      }
    },
    {
      "cell_type": "code",
      "source": [
        "with open (\"file.txt\",\"r\") as f:\n",
        "  f.seek(0)\n",
        "  print(f.read())\n"
      ],
      "metadata": {
        "colab": {
          "base_uri": "https://localhost:8080/"
        },
        "id": "kmHitwOR0Qiw",
        "outputId": "81868c77-9f18-480e-cf9a-8bc532bdb6f1"
      },
      "execution_count": null,
      "outputs": [
        {
          "output_type": "stream",
          "name": "stdout",
          "text": [
            "This is my first file\n",
            "This is my first file second line\n"
          ]
        }
      ]
    },
    {
      "cell_type": "markdown",
      "source": [
        "3. How would you handle a case where the file doesn't exist while trying to open it for reading?"
      ],
      "metadata": {
        "id": "8DxhRVHU0Qyo"
      }
    },
    {
      "cell_type": "code",
      "source": [
        "try:\n",
        "  with open(\"File.txt\",\"r\"):\n",
        "    f.seek(0)\n",
        "    print(f.read())\n",
        "except Exception as e:\n",
        "  print(\"The file is some how not opened as the error occured the error is: \",e)\n"
      ],
      "metadata": {
        "colab": {
          "base_uri": "https://localhost:8080/"
        },
        "id": "dwFz4VYw0SIA",
        "outputId": "c472b02f-0172-4ee9-fb3d-627a944132ee"
      },
      "execution_count": null,
      "outputs": [
        {
          "output_type": "stream",
          "name": "stdout",
          "text": [
            "The file is some how not opened as the error occured the error is:  [Errno 2] No such file or directory: 'File.txt'\n"
          ]
        }
      ]
    },
    {
      "cell_type": "markdown",
      "source": [
        "4. Write a Python script that reads from one file and writes its content to another file."
      ],
      "metadata": {
        "id": "3rmGW8_S0Si_"
      }
    },
    {
      "cell_type": "code",
      "source": [
        "with open(\"file.txt\",\"r\") as f:\n",
        "  with open(\"file1.txt\",\"w\") as f1:\n",
        "      for i in f:\n",
        "        f1.write(i)\n",
        "  with open(\"file1.txt\",\"r\") as f1:\n",
        "    f1.seek(0)\n",
        "    print(f1.read())"
      ],
      "metadata": {
        "colab": {
          "base_uri": "https://localhost:8080/"
        },
        "id": "UXZUGROz0T4n",
        "outputId": "08883c66-3852-4ab7-979f-cc81b8c94186"
      },
      "execution_count": null,
      "outputs": [
        {
          "output_type": "stream",
          "name": "stdout",
          "text": [
            "This is my first file\n",
            "This is my first file second line\n"
          ]
        }
      ]
    },
    {
      "cell_type": "markdown",
      "source": [
        "5. How would you catch and handle division by zero error in Python?"
      ],
      "metadata": {
        "id": "dCrBNqst0US4"
      }
    },
    {
      "cell_type": "code",
      "source": [
        "x=int(input(\"Enter the number you want to divide: \"))\n",
        "y=int(input(\"Enter the number you want to divide with: \"))\n",
        "try:\n",
        "  division = x/y\n",
        "except ZeroDivisionError as e:\n",
        "  print(\"Default division occur as you entered value of y=0 it is taken as 1 by default: \",x/1)\n",
        "  print(\"Default division occur as the error occured is: \",e)"
      ],
      "metadata": {
        "colab": {
          "base_uri": "https://localhost:8080/"
        },
        "id": "rTkSKp0L0VeI",
        "outputId": "346aa8fb-013f-4fb0-b63c-0054c6299cee"
      },
      "execution_count": null,
      "outputs": [
        {
          "output_type": "stream",
          "name": "stdout",
          "text": [
            "Enter the number you want to divide: 26\n",
            "Enter the number you want to divide with: 0\n",
            "Default division occur as you entered value of y=0 it is taken as 1 by default:  26.0\n",
            "Default division occur as the error occured is:  division by zero\n"
          ]
        }
      ]
    },
    {
      "cell_type": "markdown",
      "source": [
        "6. Write a Python program that logs an error message to a log file when a division by zero exception occurs."
      ],
      "metadata": {
        "id": "PdMG-p8u0Vy_"
      }
    },
    {
      "cell_type": "code",
      "source": [
        "import logging\n",
        "logging.basicConfig(filename='/tmp/myapp.log', level=logging.DEBUG,\n",
        "                    format='%(asctime)s %(levelname)s %(name)s %(message)s')\n",
        "logger=logging.getLogger(__name__)\n",
        "\n",
        "try:\n",
        "    1/0\n",
        "except ZeroDivisionError as err:\n",
        "    logger.error(err)"
      ],
      "metadata": {
        "id": "tnfEM6Bj0XLo",
        "colab": {
          "base_uri": "https://localhost:8080/"
        },
        "outputId": "01834ee7-7133-4612-8b33-2ec5dcf662a8"
      },
      "execution_count": 16,
      "outputs": [
        {
          "output_type": "stream",
          "name": "stderr",
          "text": [
            "ERROR:__main__:division by zero\n"
          ]
        }
      ]
    },
    {
      "cell_type": "markdown",
      "source": [
        "7. How do you log information at different levels (INFO, ERROR, WARNING) in Python using the logging module?"
      ],
      "metadata": {
        "id": "9gFdr-UO0Xmv"
      }
    },
    {
      "cell_type": "code",
      "source": [
        "import logging\n",
        "\n",
        "def get_logger(\n",
        "        LOG_FORMAT     = '%(asctime)s %(name)-12s %(levelname)-8s %(message)s',\n",
        "        LOG_NAME       = '',\n",
        "        LOG_FILE_INFO  = 'file.log',\n",
        "        LOG_FILE_ERROR = 'file.err'):\n",
        "\n",
        "    log           = logging.getLogger(LOG_NAME)\n",
        "    log_formatter = logging.Formatter(LOG_FORMAT)\n",
        "\n",
        "    # comment this to suppress console output\n",
        "    stream_handler = logging.StreamHandler()\n",
        "    stream_handler.setFormatter(log_formatter)\n",
        "    log.addHandler(stream_handler)\n",
        "\n",
        "    file_handler_info = logging.FileHandler(LOG_FILE_INFO, mode='w')\n",
        "    file_handler_info.setFormatter(log_formatter)\n",
        "    file_handler_info.setLevel(logging.INFO)\n",
        "    log.addHandler(file_handler_info)\n",
        "\n",
        "    file_handler_error = logging.FileHandler(LOG_FILE_ERROR, mode='w')\n",
        "    file_handler_error.setFormatter(log_formatter)\n",
        "    file_handler_error.setLevel(logging.ERROR)\n",
        "    log.addHandler(file_handler_error)\n",
        "\n",
        "    log.setLevel(logging.INFO)\n",
        "\n",
        "    return log\n",
        "\n",
        "def main():\n",
        "\n",
        "    my_logger = get_logger()\n",
        "\n",
        "    my_logger.info('This is an INFO message')\n",
        "    my_logger.warning('This is a WARNING message')\n",
        "    my_logger.error('This is an ERROR message')\n",
        "\n",
        "\n",
        "if __name__ == '__main__':\n",
        "    main()"
      ],
      "metadata": {
        "id": "Qv1fBC-L0Y-H",
        "colab": {
          "base_uri": "https://localhost:8080/"
        },
        "outputId": "c137821b-b6dc-48f9-8754-12140489b0c7"
      },
      "execution_count": 26,
      "outputs": [
        {
          "output_type": "stream",
          "name": "stderr",
          "text": [
            "INFO:root:This is an INFO message\n",
            "2025-02-05 14:10:38,606 root         INFO     This is an INFO message\n",
            "2025-02-05 14:10:38,606 root         INFO     This is an INFO message\n",
            "WARNING:root:This is a WARNING message\n",
            "2025-02-05 14:10:38,612 root         WARNING  This is a WARNING message\n",
            "2025-02-05 14:10:38,612 root         WARNING  This is a WARNING message\n",
            "ERROR:root:This is an ERROR message\n",
            "2025-02-05 14:10:38,618 root         ERROR    This is an ERROR message\n",
            "2025-02-05 14:10:38,618 root         ERROR    This is an ERROR message\n"
          ]
        }
      ]
    },
    {
      "cell_type": "markdown",
      "source": [
        "8. Write a program to handle a file opening error using exception handling."
      ],
      "metadata": {
        "id": "83gRwdif0Zc4"
      }
    },
    {
      "cell_type": "code",
      "source": [
        "try:\n",
        "  with open(\"file2.txt\",\"r\") as f:\n",
        "    f.read()\n",
        "except FileNotFoundError as e:\n",
        "    print(\"The file you want to open is not there so kindly try to open other files: \",e)"
      ],
      "metadata": {
        "colab": {
          "base_uri": "https://localhost:8080/"
        },
        "id": "9O6QpV950bDP",
        "outputId": "881b7a3c-3ba4-4a09-f348-97a46c96830e"
      },
      "execution_count": null,
      "outputs": [
        {
          "output_type": "stream",
          "name": "stdout",
          "text": [
            "The file you want to open is not there so kindly try to open other files:  [Errno 2] No such file or directory: 'file2.txt'\n"
          ]
        }
      ]
    },
    {
      "cell_type": "markdown",
      "source": [
        "9. How can you read a file line by line and store its content in a list in Python?"
      ],
      "metadata": {
        "id": "Bolpa5JI0baH"
      }
    },
    {
      "cell_type": "code",
      "source": [
        "with open(\"file1.txt\",\"r\") as f:\n",
        "  x=f.readlines()\n",
        "  print(type(x))\n",
        "  print(x)"
      ],
      "metadata": {
        "colab": {
          "base_uri": "https://localhost:8080/"
        },
        "id": "7P__q63i0dJn",
        "outputId": "12373cc5-f966-40c2-d1a7-c56e971d3826"
      },
      "execution_count": null,
      "outputs": [
        {
          "output_type": "stream",
          "name": "stdout",
          "text": [
            "<class 'list'>\n",
            "['This is my first file\\n', 'This is my first file second line']\n"
          ]
        }
      ]
    },
    {
      "cell_type": "markdown",
      "source": [
        "10. How can you append data to an existing file in Python?"
      ],
      "metadata": {
        "id": "0QbCs5tQ0dgv"
      }
    },
    {
      "cell_type": "code",
      "source": [
        "#to append the data in the existing file we need to open the filr in \"a\" mode\n",
        "with open(\"file1.txt\",\"a\") as f:\n",
        "  f.write(\"\\nThis is the 3rd line of the code\")\n",
        "with open(\"file1.txt\",\"r\") as f:\n",
        "  print(f.readlines())\n",
        "\n"
      ],
      "metadata": {
        "colab": {
          "base_uri": "https://localhost:8080/"
        },
        "id": "L7rzDrQg0exP",
        "outputId": "5dcc4ce5-5a44-4561-90b1-92b1a8b474d7"
      },
      "execution_count": null,
      "outputs": [
        {
          "output_type": "stream",
          "name": "stdout",
          "text": [
            "['This is my first file\\n', 'This is my first file second lineThis is the 3rd line of the codeThis is the 3rd line of the code\\n', 'This is the 3rd line of the code\\n', 'This is the 3rd line of the code\\n', 'This is the 3rd line of the code']\n"
          ]
        }
      ]
    },
    {
      "cell_type": "markdown",
      "source": [
        "11. Write a Python program that uses a try-except block to handle an error when attempting to access a\n",
        "dictionary key that doesn't exist."
      ],
      "metadata": {
        "id": "uutUBJbm0fAf"
      }
    },
    {
      "cell_type": "code",
      "source": [
        "dict1={\"key1\":\"value1\",\"key2\":\"value2\"}\n",
        "try:\n",
        "  print(dict1[input(\"Enter the key that you want its value\")])\n",
        "except KeyError as e:\n",
        "  print(\"You have written key that doesn't exist in the key value pair so the error occur is: \",e)"
      ],
      "metadata": {
        "colab": {
          "base_uri": "https://localhost:8080/"
        },
        "id": "rlzJbxED0gRn",
        "outputId": "2a64a77c-f5c6-4ece-d646-8611a6d3c78b"
      },
      "execution_count": null,
      "outputs": [
        {
          "output_type": "stream",
          "name": "stdout",
          "text": [
            "Enter the key that you want its valuekey4\n",
            "You have written key that doesn't exist in the key value pair so the error occur is:  'key4'\n"
          ]
        }
      ]
    },
    {
      "cell_type": "markdown",
      "source": [
        "12. Write a program that demonstrates using multiple except blocks to handle different types of exceptions."
      ],
      "metadata": {
        "id": "4UQa7kBt0goX"
      }
    },
    {
      "cell_type": "code",
      "source": [
        "x=input(\"Enter the number you want to divide: \")\n",
        "y=input(\"Enter the number you want to divide with: \")\n",
        "try:\n",
        "  division = int(x)/y\n",
        "except (TypeError,ZeroDivisionError,NameError ) as e:\n",
        "  print(\"Either type or name or zerodivision error has occured: \",e)\n"
      ],
      "metadata": {
        "id": "vxlR8opo0iqf",
        "colab": {
          "base_uri": "https://localhost:8080/"
        },
        "outputId": "8b72309a-79e4-4b78-dc29-f5050d76ff8a"
      },
      "execution_count": null,
      "outputs": [
        {
          "output_type": "stream",
          "name": "stdout",
          "text": [
            "Enter the number you want to divide: 23\n",
            "Enter the number you want to divide with: h\n",
            "Either type or name or zerodivision error has occured:  unsupported operand type(s) for /: 'int' and 'str'\n"
          ]
        }
      ]
    },
    {
      "cell_type": "markdown",
      "source": [
        "13. How would you check if a file exists before attempting to read it in Python?"
      ],
      "metadata": {
        "id": "vRqFjnWN0i6_"
      }
    },
    {
      "cell_type": "code",
      "source": [
        "#using try except and else block because else block runs only if the try runned without error\n",
        "try:\n",
        "  open(\"file1.txt\")\n",
        "except FileNotFoundError as e :\n",
        "  print(\"kindly make the file beacuse it doesn't exist as the error occured is: \",e)\n",
        "else:\n",
        "  with open(\"file1.txt\",\"r\") as f:\n",
        "    print(f.readlines())"
      ],
      "metadata": {
        "id": "fcShX_eQ0kX_",
        "colab": {
          "base_uri": "https://localhost:8080/"
        },
        "outputId": "611c6a80-d73b-4aaf-d0da-7acad5bd3269"
      },
      "execution_count": null,
      "outputs": [
        {
          "output_type": "stream",
          "name": "stdout",
          "text": [
            "['This is my first file\\n', 'This is my first file second lineThis is the 3rd line of the codeThis is the 3rd line of the code\\n', 'This is the 3rd line of the code\\n', 'This is the 3rd line of the code\\n', 'This is the 3rd line of the code']\n"
          ]
        }
      ]
    },
    {
      "cell_type": "markdown",
      "source": [
        "14. Write a program that uses the logging module to log both informational and error messages."
      ],
      "metadata": {
        "id": "C6lgiaPj0ks_"
      }
    },
    {
      "cell_type": "code",
      "source": [
        "import logging\n",
        "\n",
        "def get_logger(\n",
        "        LOG_FORMAT     = '%(asctime)s %(name)-12s %(levelname)-8s %(message)s',\n",
        "        LOG_NAME       = '',\n",
        "        LOG_FILE_INFO  = 'file.log',\n",
        "        LOG_FILE_ERROR = 'file.err'):\n",
        "\n",
        "    log           = logging.getLogger(LOG_NAME)\n",
        "    log_formatter = logging.Formatter(LOG_FORMAT)\n",
        "\n",
        "    # comment this to suppress console output\n",
        "    stream_handler = logging.StreamHandler()\n",
        "    stream_handler.setFormatter(log_formatter)\n",
        "    log.addHandler(stream_handler)\n",
        "\n",
        "    file_handler_info = logging.FileHandler(LOG_FILE_INFO, mode='w')\n",
        "    file_handler_info.setFormatter(log_formatter)\n",
        "    file_handler_info.setLevel(logging.INFO)\n",
        "    log.addHandler(file_handler_info)\n",
        "\n",
        "    file_handler_error = logging.FileHandler(LOG_FILE_ERROR, mode='w')\n",
        "    file_handler_error.setFormatter(log_formatter)\n",
        "    file_handler_error.setLevel(logging.ERROR)\n",
        "    log.addHandler(file_handler_error)\n",
        "\n",
        "    log.setLevel(logging.INFO)\n",
        "\n",
        "    return log\n",
        "\n",
        "def main():\n",
        "\n",
        "    my_logger = get_logger()\n",
        "\n",
        "    my_logger.info('This is an INFO message')\n",
        "    my_logger.warning('This is a WARNING message')\n",
        "    my_logger.error('This is an ERROR message')\n",
        "\n",
        "\n",
        "if __name__ == '__main__':\n",
        "    main()"
      ],
      "metadata": {
        "id": "VEskU2Gb0mkf",
        "colab": {
          "base_uri": "https://localhost:8080/"
        },
        "outputId": "e2b491bc-59a7-4518-956f-b65427be521d"
      },
      "execution_count": 25,
      "outputs": [
        {
          "output_type": "stream",
          "name": "stderr",
          "text": [
            "INFO:root:This is an INFO message\n",
            "2025-02-05 14:10:08,439 root         INFO     This is an INFO message\n",
            "WARNING:root:This is a WARNING message\n",
            "2025-02-05 14:10:08,443 root         WARNING  This is a WARNING message\n",
            "ERROR:root:This is an ERROR message\n",
            "2025-02-05 14:10:08,447 root         ERROR    This is an ERROR message\n"
          ]
        }
      ]
    },
    {
      "cell_type": "markdown",
      "source": [
        "15. Write a Python program that prints the content of a file and handles the case when the file is empty."
      ],
      "metadata": {
        "id": "6u5s_V4_0m5X"
      }
    },
    {
      "cell_type": "code",
      "source": [
        "#for empty file\n",
        "class empty_file(Exception):\n",
        "  def __init__(self,msg):\n",
        "    self.msg=msg\n",
        "def file_empty(x):\n",
        "   if len(x)==0:\n",
        "      raise empty_file (\"The file is empty\")\n",
        "x=[]\n",
        "try:\n",
        "  with open(\"file2.txt\",\"r\") as f:\n",
        "    for i in f:\n",
        "      x.append(i)\n",
        "    file_empty(x)\n",
        "except empty_file as e:\n",
        "  print(\"YOu have an empty file try to open the file in which some thing is written: \",e)\n",
        "else:\n",
        "  with open(\"file2.txt\",\"r\") as f:\n",
        "    print(f.read())\n",
        "#-------------------------------------------------------------------------------------------------------------------------------------------------\n",
        "#for file in which comtent is written\n",
        "class empty_file(Exception):\n",
        "  def __init__(self,msg):\n",
        "    self.msg=msg\n",
        "def file_empty(x):\n",
        "   if len(x)==0:\n",
        "      raise empty_file (\"The file is empty\")\n",
        "x=[]\n",
        "try:\n",
        "  with open(\"file.txt\",\"r\") as f:\n",
        "    for i in f:\n",
        "      x.append(i)\n",
        "    file_empty(x)\n",
        "except empty_file as e:\n",
        "  print(\"YOu have an empty file try to open the file in which some thing is written: \",e)\n",
        "else:\n",
        "  with open(\"file.txt\",\"r\") as f:\n",
        "    print(f.read())"
      ],
      "metadata": {
        "id": "WKHcd9M40qVn",
        "colab": {
          "base_uri": "https://localhost:8080/"
        },
        "outputId": "a114f018-ac15-436e-a72f-44b95f16f9aa"
      },
      "execution_count": null,
      "outputs": [
        {
          "output_type": "stream",
          "name": "stdout",
          "text": [
            "YOu have an empty file try to open the file in which some thing is written:  The file is empty\n",
            "This is my first file\n",
            "This is my first file second line\n"
          ]
        }
      ]
    },
    {
      "cell_type": "markdown",
      "source": [
        "16. Demonstrate how to use memory profiling to check the memory usage of a small program."
      ],
      "metadata": {
        "id": "6GtXRCd70qmY"
      }
    },
    {
      "cell_type": "code",
      "source": [
        "from memory_profiler import profile\n",
        "@profile\n",
        "\n",
        "def allocate_memory():\n",
        "    # Allocate a list with a range of numbers\n",
        "    a = [i for i in range(10000)]\n",
        "    # Allocate another list with squares of numbers\n",
        "    b = [i ** 2 for i in range(10000)]\n",
        "    return a, b\n",
        "\n",
        "if __name__ == \"__main__\":\n",
        "    allocate_memory()"
      ],
      "metadata": {
        "id": "oD5WlHSV0ryf",
        "colab": {
          "base_uri": "https://localhost:8080/",
          "height": 211
        },
        "outputId": "99f40cb8-83da-4697-f7de-ffc9883a4e1c"
      },
      "execution_count": 29,
      "outputs": [
        {
          "output_type": "error",
          "ename": "NameError",
          "evalue": "name 'profile' is not defined",
          "traceback": [
            "\u001b[0;31m---------------------------------------------------------------------------\u001b[0m",
            "\u001b[0;31mNameError\u001b[0m                                 Traceback (most recent call last)",
            "\u001b[0;32m<ipython-input-29-cd3969e07410>\u001b[0m in \u001b[0;36m<cell line: 0>\u001b[0;34m()\u001b[0m\n\u001b[0;32m----> 1\u001b[0;31m \u001b[0;34m@\u001b[0m\u001b[0mprofile\u001b[0m\u001b[0;34m\u001b[0m\u001b[0;34m\u001b[0m\u001b[0m\n\u001b[0m\u001b[1;32m      2\u001b[0m \u001b[0;32mdef\u001b[0m \u001b[0mallocate_memory\u001b[0m\u001b[0;34m(\u001b[0m\u001b[0;34m)\u001b[0m\u001b[0;34m:\u001b[0m\u001b[0;34m\u001b[0m\u001b[0;34m\u001b[0m\u001b[0m\n\u001b[1;32m      3\u001b[0m     \u001b[0;31m# Allocate a list with a range of numbers\u001b[0m\u001b[0;34m\u001b[0m\u001b[0;34m\u001b[0m\u001b[0m\n\u001b[1;32m      4\u001b[0m     \u001b[0ma\u001b[0m \u001b[0;34m=\u001b[0m \u001b[0;34m[\u001b[0m\u001b[0mi\u001b[0m \u001b[0;32mfor\u001b[0m \u001b[0mi\u001b[0m \u001b[0;32min\u001b[0m \u001b[0mrange\u001b[0m\u001b[0;34m(\u001b[0m\u001b[0;36m10000\u001b[0m\u001b[0;34m)\u001b[0m\u001b[0;34m]\u001b[0m\u001b[0;34m\u001b[0m\u001b[0;34m\u001b[0m\u001b[0m\n\u001b[1;32m      5\u001b[0m     \u001b[0;31m# Allocate another list with squares of numbers\u001b[0m\u001b[0;34m\u001b[0m\u001b[0;34m\u001b[0m\u001b[0m\n",
            "\u001b[0;31mNameError\u001b[0m: name 'profile' is not defined"
          ]
        }
      ]
    },
    {
      "cell_type": "markdown",
      "source": [
        "17. Write a Python program to create and write a list of numbers to a file, one number per line."
      ],
      "metadata": {
        "id": "IICea0fg0sDH"
      }
    },
    {
      "cell_type": "code",
      "source": [
        "with open(\"file_with_numbers.txt\",\"w\") as f:\n",
        "  n=int(input(\"Enter the numbers that you want to encorporate in the file\"))\n",
        "  for i in range(n):\n",
        "    f.write(str(i))\n",
        "    f.write(\"\\n\")\n",
        "with open (\"file_with_numbers.txt\",\"r\") as f:\n",
        "  print(f.read())\n",
        "\n",
        "\n"
      ],
      "metadata": {
        "id": "Nj0j8tgB0u6n",
        "colab": {
          "base_uri": "https://localhost:8080/"
        },
        "outputId": "baa0a3b5-70a0-46be-d608-d6a4baf18dd1"
      },
      "execution_count": null,
      "outputs": [
        {
          "output_type": "stream",
          "name": "stdout",
          "text": [
            "Enter the numbers that you want to encorporate in the file23\n",
            "0\n",
            "1\n",
            "2\n",
            "3\n",
            "4\n",
            "5\n",
            "6\n",
            "7\n",
            "8\n",
            "9\n",
            "10\n",
            "11\n",
            "12\n",
            "13\n",
            "14\n",
            "15\n",
            "16\n",
            "17\n",
            "18\n",
            "19\n",
            "20\n",
            "21\n",
            "22\n",
            "\n"
          ]
        }
      ]
    },
    {
      "cell_type": "markdown",
      "source": [
        "18. How would you implement a basic logging setup that logs to a file with rotation after IMB?"
      ],
      "metadata": {
        "id": "gU69uhm80vRv"
      }
    },
    {
      "cell_type": "code",
      "source": [
        "import time\n",
        "import logging\n",
        "import logging.handlers\n",
        "\n",
        "def log_setup():\n",
        "    log_handler = logging.handlers.WatchedFileHandler('my.log')\n",
        "    formatter = logging.Formatter(\n",
        "        '%(asctime)s program_name [%(process)d]: %(message)s',\n",
        "        '%b %d %H:%M:%S')\n",
        "    formatter.converter = time.gmtime  # if you want UTC time\n",
        "    log_handler.setFormatter(formatter)\n",
        "    logger = logging.getLogger()\n",
        "    logger.addHandler(log_handler)\n",
        "    logger.setLevel(logging.DEBUG)\n",
        "\n",
        "log_setup()\n",
        "logging.info('Hello, World!')\n",
        "import os\n",
        "os.rename('my.log', 'my.log-old')\n",
        "logging.info('Hello, New World!')"
      ],
      "metadata": {
        "id": "dgFT-XNy0wyn",
        "colab": {
          "base_uri": "https://localhost:8080/"
        },
        "outputId": "d2438e64-88e7-4d26-b257-c5157b64d2d4"
      },
      "execution_count": 30,
      "outputs": [
        {
          "output_type": "stream",
          "name": "stderr",
          "text": [
            "INFO:root:Hello, World!\n",
            "2025-02-05 14:12:26,681 root         INFO     Hello, World!\n",
            "2025-02-05 14:12:26,681 root         INFO     Hello, World!\n",
            "INFO:root:Hello, New World!\n",
            "2025-02-05 14:12:26,688 root         INFO     Hello, New World!\n",
            "2025-02-05 14:12:26,688 root         INFO     Hello, New World!\n"
          ]
        }
      ]
    },
    {
      "cell_type": "markdown",
      "source": [
        "19. Write a program that handles both IndexError and KeyError using a try-except block."
      ],
      "metadata": {
        "id": "VldErpj_0xNH"
      }
    },
    {
      "cell_type": "code",
      "source": [
        "#program to take user input to find the number in the list using index entered by user.\n",
        "l=[1,2,3,4,5,6,7,8,9,10]\n",
        "try:\n",
        "  print(l[int(input(\"Enter the number of index you will get a magic number: \"))])\n",
        "except IndexError as e:\n",
        "  print(\"You have entered the number greater than the size of list so the error occured is: \",e)\n",
        "except KeyError as e:\n",
        "  print(\"You have entered the wrong index it must be from o to \",len(l),\"so the error occured is: \",e)\n",
        "print(\"thank you!\")"
      ],
      "metadata": {
        "id": "oQmBAAB500jX",
        "colab": {
          "base_uri": "https://localhost:8080/"
        },
        "outputId": "3d58380e-a625-4c5f-aebd-34f9b6aedf1b"
      },
      "execution_count": 3,
      "outputs": [
        {
          "output_type": "stream",
          "name": "stdout",
          "text": [
            "Enter the number of index you will get a magic number: 23\n",
            "You have entered the number greater than the size of list so the error occured is:  list index out of range\n",
            "thank you!\n"
          ]
        }
      ]
    },
    {
      "cell_type": "markdown",
      "source": [
        "20. How would you open a file and read its contents using a context manager in Python?"
      ],
      "metadata": {
        "id": "9tckLq5D00yX"
      }
    },
    {
      "cell_type": "code",
      "source": [
        "from contextlib import contextmanager\n",
        "\n",
        "@contextmanager\n",
        "def open_read_only(filename):\n",
        "  \"\"\"Open a file in read-only mode.\n",
        "\n",
        "  Args:\n",
        "    filename (str): The location of the file to read\n",
        "\n",
        "  Yields:\n",
        "    file object\n",
        "  \"\"\"\n",
        "\n",
        "  # Yield read_only_file so it can be assigned to my_file\n",
        "  #____ ____\n",
        "  # Close read_only_file\n",
        "  #____.____()\n",
        "\n",
        "with open('file.txt') as my_file:\n",
        "  print(my_file.read())"
      ],
      "metadata": {
        "id": "zs3Tb1Bd02Lf",
        "colab": {
          "base_uri": "https://localhost:8080/"
        },
        "outputId": "0d404384-34cc-4bc4-fb59-8441af039e46"
      },
      "execution_count": 11,
      "outputs": [
        {
          "output_type": "stream",
          "name": "stdout",
          "text": [
            "This is my first file\n",
            "This is my first file second line\n"
          ]
        }
      ]
    },
    {
      "cell_type": "markdown",
      "source": [
        "21. Write a Python program that reads a file and prints the number of occurrences of a specific word."
      ],
      "metadata": {
        "id": "rQfKyGAT022X"
      }
    },
    {
      "cell_type": "code",
      "source": [
        "with open(\"file.txt\",\"r\") as f:\n",
        "  data=f.read()\n",
        "  print(data)\n",
        "  words=data.split()\n",
        "  count=len(words)\n",
        "  print(\"total number of word count in this file is:\",count)"
      ],
      "metadata": {
        "id": "e8PQLKbZ04xP",
        "colab": {
          "base_uri": "https://localhost:8080/"
        },
        "outputId": "0fad8232-b7d8-4daa-9dbf-5b263302c04f"
      },
      "execution_count": 15,
      "outputs": [
        {
          "output_type": "stream",
          "name": "stdout",
          "text": [
            "This is my first file\n",
            "This is my first file second line\n",
            "total number of word count in this file is: 12\n"
          ]
        }
      ]
    },
    {
      "cell_type": "markdown",
      "source": [
        "22. How can you check if a file is empty before attempting to read its contents?"
      ],
      "metadata": {
        "id": "FsdcTb7x05DH"
      }
    },
    {
      "cell_type": "code",
      "source": [
        "#for empty file\n",
        "class empty_file(Exception):\n",
        "  def __init__(self,msg):\n",
        "    self.msg=msg\n",
        "def file_empty(x):\n",
        "   if len(x)==0:\n",
        "      raise empty_file (\"The file is empty\")\n",
        "x=[]\n",
        "try:\n",
        "  with open(\"file2.txt\",\"r\") as f:\n",
        "    for i in f:\n",
        "      x.append(i)\n",
        "    file_empty(x)\n",
        "except empty_file as e:\n",
        "  print(\"YOu have an empty file try to open the file in which some thing is written: \",e)\n",
        "else:\n",
        "  with open(\"file2.txt\",\"r\") as f:\n",
        "    print(f.read())"
      ],
      "metadata": {
        "id": "kFeEMiTo06w_",
        "colab": {
          "base_uri": "https://localhost:8080/"
        },
        "outputId": "0f1b0156-41f5-4f18-ac85-f45f1eb41203"
      },
      "execution_count": null,
      "outputs": [
        {
          "output_type": "stream",
          "name": "stdout",
          "text": [
            "YOu have an empty file try to open the file in which some thing is written:  The file is empty\n"
          ]
        }
      ]
    },
    {
      "cell_type": "markdown",
      "source": [
        "23. Write a Python program that writes to a log file when an error occurs during file handling."
      ],
      "metadata": {
        "id": "lQMn9Qss06_e"
      }
    },
    {
      "cell_type": "code",
      "source": [
        "import logging\n",
        "logging.basicConfig(filename='/tmp/myapp.log', level=logging.DEBUG,\n",
        "                    format='%(asctime)s %(levelname)s %(name)s %(message)s')\n",
        "logger=logging.getLogger(__name__)\n",
        "\n",
        "try:\n",
        "    1/0\n",
        "except ZeroDivisionError as err:\n",
        "    logger.error(err)"
      ],
      "metadata": {
        "id": "8yu6NxC109pH",
        "colab": {
          "base_uri": "https://localhost:8080/"
        },
        "outputId": "d019cf11-fd33-4871-bba2-300c3649b8fd"
      },
      "execution_count": 31,
      "outputs": [
        {
          "output_type": "stream",
          "name": "stderr",
          "text": [
            "ERROR:__main__:division by zero\n",
            "2025-02-05 14:13:07,346 __main__     ERROR    division by zero\n",
            "2025-02-05 14:13:07,346 __main__     ERROR    division by zero\n"
          ]
        }
      ]
    }
  ]
}